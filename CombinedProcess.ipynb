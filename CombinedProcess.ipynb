{
 "cells": [
  {
   "cell_type": "code",
   "execution_count": 1,
   "metadata": {
    "collapsed": true
   },
   "outputs": [],
   "source": [
    "import pandas as pd\n",
    "import numpy as np\n",
    "import xlrd\n",
    "import calendar\n",
    "from numpy import *\n",
    "from pandas import ExcelWriter"
   ]
  },
  {
   "cell_type": "code",
   "execution_count": 2,
   "metadata": {
    "collapsed": true
   },
   "outputs": [],
   "source": [
    "#Take individual output files and combine\n",
    "\n",
    "input_path = 'S:\\\\Actuarial\\\\Projects\\\\Delegated Underwriting\\\\Source Data\\\\Output\\\\'\n",
    "\n",
    "output_path  = 'S:\\\\Actuarial\\\\Projects\\\\Delegated Underwriting\\\\Source Data\\\\Combined Output\\\\'\n",
    "\n",
    "infl_prop_14 = 'ICC Claims Prop 2014.xlsx'\n",
    "infl_liab_14 = 'ICC Claims Liab 2014.xlsx'\n",
    "infl_prop_15 = 'ICC Claims Prop 2015.xlsx'\n",
    "infl_liab_15 = 'ICC Claims Liab 2015.xlsx'\n",
    "infl_prop_15_lsic = 'ICC Claims Prop 2015 LSIC.xlsx'\n",
    "infl_liab_15_lsic = 'ICC Claims Liab 2015 LSIC.xlsx'\n",
    "infl_prop_16 = 'ICC Claims Prop 2016.xlsx'\n",
    "infl_liab_16 = 'ICC Claims Liab 2016.xlsx'\n",
    "infl_prop_17 = 'ICC Claims Prop 2017.xlsx'\n",
    "infl_liab_17 = 'ICC Claims Liab 2017.xlsx'\n",
    "\n",
    "input_files = [infl_prop_14,infl_liab_14,infl_prop_15,infl_liab_15,infl_prop_15_lsic,infl_liab_15_lsic,infl_prop_16,infl_liab_16,infl_prop_17,infl_liab_17]\n",
    "\n",
    "output_file = 'ICC Claims Combined'\n",
    "\n",
    "output_extension = '.xlsx'"
   ]
  },
  {
   "cell_type": "code",
   "execution_count": 3,
   "metadata": {
    "collapsed": false
   },
   "outputs": [
    {
     "name": "stdout",
     "output_type": "stream",
     "text": [
      "ICC Claims Prop 2014.xlsx\n",
      "ICC Claims Liab 2014.xlsx\n",
      "ICC Claims Prop 2015.xlsx\n",
      "ICC Claims Liab 2015.xlsx\n",
      "ICC Claims Prop 2015 LSIC.xlsx\n",
      "ICC Claims Liab 2015 LSIC.xlsx\n",
      "ICC Claims Prop 2016.xlsx\n",
      "ICC Claims Liab 2016.xlsx\n",
      "ICC Claims Prop 2017.xlsx\n",
      "ICC Claims Liab 2017.xlsx\n"
     ]
    }
   ],
   "source": [
    "#Get common column names\n",
    "df_source = pd.read_excel(input_path + infl_liab_17, sheetname = 'Sheet1')\n",
    "source_columns = df_source.columns.values\n",
    "combined_list = source_columns\n",
    "for input_file in input_files:\n",
    "    print(input_file)\n",
    "    sheet = pd.read_excel(input_path + input_file, sheetname = 'Sheet1')\n",
    "    #sheet.head()\n",
    "    sheet_columns = sheet.columns.values\n",
    "    combined_list = set(combined_list).intersection(sheet_columns)\n",
    "\n",
    "    "
   ]
  },
  {
   "cell_type": "code",
   "execution_count": 10,
   "metadata": {
    "collapsed": false
   },
   "outputs": [],
   "source": [
    "#Reorder to bring specific columns to front\n",
    "combined_list = list(combined_list)\n",
    "combined_list = sorted(combined_list, key=str.lower)\n",
    "#print(combined_list) "
   ]
  },
  {
   "cell_type": "code",
   "execution_count": 16,
   "metadata": {
    "collapsed": false
   },
   "outputs": [
    {
     "name": "stdout",
     "output_type": "stream",
     "text": [
      "['BinderName', 'Claim Reference', 'YearOfAccount', 'DevelopmentMonth', 'ReportYear', 'ReportMonth', 'ReportPeriod', 'Claim Status', 'Total Incurred', 'TotalReserve', 'TotalPaid', 'Address', 'Agreement No', 'Catastrophe Name', 'Cause of Loss Code', 'Certificate Reference', 'Change this month Fees', 'Change this month Indemnity', 'Claimant Name', 'ClaimStatus', 'Class of Business', 'Contract Expiry', 'Contract Inception', 'Country', 'Country of Treatment', 'Country.1', 'Country.2', 'Coverholder Name', 'Coverholder PIN', 'Date Claim Made', 'Date Closed', 'Date First Advised Notification Date', 'Date of Loss From ', 'Date of Loss To ', 'Deductible Amount', 'Deductible Basis', 'Denial', 'Firm Company Name', 'Full Name or Company Name', 'InceptionMonth', 'Location ID', 'Loss County', 'Loss Description', 'Medicare Conditional Payments', 'Medicare Eligibility Check Performance', 'Medicare MSP Compliance Services', 'Medicare Outcome of Eligibility Status Check', 'Medicare United States Bodily Injury', 'Name or Reg No of Aircraft Vehicle Vessel etc', 'Notes', 'Original Currency', 'Paid this month Adjusters Fees', 'Paid this month Attorney Coverage Fees', 'Paid this month Defence Fees', 'Paid this month Expenses', 'Paid this month Fees', 'Paid this month Indemnity', 'Paid this month TPA Fees', 'Patient Name', 'PCS Code', 'Period of Cover Narrative', 'Plan', 'Policy or Group Ref', 'Postcode Zip Code or similar', 'Previous Paid Adjuster Fees', 'Previously Paid Attorney Coverage Fees', 'Previously Paid Defence Fees', 'Previously Paid Expenses', 'Previously Paid Fees', 'Previously Paid Indemnity', 'Previously Paid TPA Fees', 'Rate of Exchange', 'Refer to Underwriter', 'Reference No etc', 'Report Period End Date ', 'Reporting Period Start Date', 'Reserve Adjusters Fees', 'Reserve Attorney Coverage Fees', 'Reserve Defence Fees', 'Reserve Expenses', 'Reserve Fees', 'Reserve Indemnity', 'Reserve TPA Fees', 'Risk Expiry Date', 'Risk Inception Date', 'Role', 'Row No', 'Section No', 'Settlement Currency', 'State of Filing', 'State Province Territory Canton etc', 'State Province Territory Canton etc.1', 'State Province Territory Canton etc.2', 'State Province Territory Canton etc.3', 'Sums Insured Amount', 'Total Incurred Fees', 'Total Incurred Indemnity', 'TPA Name', 'Treatment Type', 'Type of Insurance Direct or Type of RI ', 'Unique Market Reference UMR ']\n"
     ]
    }
   ],
   "source": [
    "combined_list.insert(0, combined_list.pop(combined_list.index('TotalPaid')))\n",
    "combined_list.insert(0, combined_list.pop(combined_list.index('TotalReserve')))\n",
    "combined_list.insert(0, combined_list.pop(combined_list.index('Total Incurred')))\n",
    "combined_list.insert(0, combined_list.pop(combined_list.index('Claim Status')))\n",
    "combined_list.insert(0, combined_list.pop(combined_list.index('ReportPeriod')))\n",
    "combined_list.insert(0, combined_list.pop(combined_list.index('ReportYear')))\n",
    "combined_list.insert(0, combined_list.pop(combined_list.index('ReportMonth')))\n",
    "combined_list.insert(0, combined_list.pop(combined_list.index('ReportYear')))\n",
    "combined_list.insert(0, combined_list.pop(combined_list.index('DevelopmentMonth')))\n",
    "combined_list.insert(0, combined_list.pop(combined_list.index('YearOfAccount')))\n",
    "combined_list.insert(0, combined_list.pop(combined_list.index('Claim Reference')))\n",
    "combined_list.insert(0, combined_list.pop(combined_list.index('BinderName')))\n",
    "\n",
    "print(combined_list) "
   ]
  },
  {
   "cell_type": "code",
   "execution_count": 17,
   "metadata": {
    "collapsed": false
   },
   "outputs": [
    {
     "name": "stdout",
     "output_type": "stream",
     "text": [
      "ICC Claims Prop 2014.xlsx\n",
      "ICC Claims Liab 2014.xlsx\n",
      "ICC Claims Prop 2015.xlsx\n",
      "ICC Claims Liab 2015.xlsx\n",
      "ICC Claims Prop 2015 LSIC.xlsx\n",
      "ICC Claims Liab 2015 LSIC.xlsx\n",
      "ICC Claims Prop 2016.xlsx\n",
      "ICC Claims Liab 2016.xlsx\n",
      "ICC Claims Prop 2017.xlsx\n",
      "ICC Claims Liab 2017.xlsx\n"
     ]
    }
   ],
   "source": [
    "combined_pd = pd.DataFrame(columns = combined_list)\n",
    "\n",
    "for input_file in input_files:\n",
    "    input_pd = pd.read_excel(input_path + input_file, sheetname = 'Sheet1')\n",
    "    print(input_file)\n",
    "    input_pd = input_pd[combined_list] \n",
    "    \n",
    "    combined_pd = combined_pd.append(input_pd)"
   ]
  },
  {
   "cell_type": "code",
   "execution_count": 18,
   "metadata": {
    "collapsed": false
   },
   "outputs": [],
   "source": [
    "#Output to Excel\n",
    "combined_pd.to_excel(output_path + output_file + output_extension, sheet_name='Combined', index=False, engine='xlsxwriter')"
   ]
  },
  {
   "cell_type": "code",
   "execution_count": null,
   "metadata": {
    "collapsed": true
   },
   "outputs": [],
   "source": []
  }
 ],
 "metadata": {
  "anaconda-cloud": {},
  "kernelspec": {
   "display_name": "Python [default]",
   "language": "python",
   "name": "python3"
  },
  "language_info": {
   "codemirror_mode": {
    "name": "ipython",
    "version": 3
   },
   "file_extension": ".py",
   "mimetype": "text/x-python",
   "name": "python",
   "nbconvert_exporter": "python",
   "pygments_lexer": "ipython3",
   "version": "3.5.4"
  }
 },
 "nbformat": 4,
 "nbformat_minor": 1
}

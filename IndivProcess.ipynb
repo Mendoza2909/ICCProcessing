{
 "cells": [
  {
   "cell_type": "code",
   "execution_count": 1,
   "metadata": {
    "collapsed": true
   },
   "outputs": [],
   "source": [
    "import pandas as pd\n",
    "import numpy as np\n",
    "import xlrd\n",
    "import calendar\n",
    "from numpy import *\n",
    "from pandas import ExcelWriter"
   ]
  },
  {
   "cell_type": "code",
   "execution_count": 2,
   "metadata": {
    "collapsed": false
   },
   "outputs": [],
   "source": [
    "#Filepath_ICC_2014 = 'S:\\\\Operations\\\\Binder and Technical Docs - PMS\\\\CLAIMS FOLDER\\\\Delegate UW Claims BDX\\\\Claims Bordereau\\\\ICC\\\\2014 Binders\\\\'\n",
    "input_path = 'S:\\\\Actuarial\\\\Projects\\\\Delegated Underwriting\\\\Source Data\\\\Input\\\\'\n",
    "output_path = 'S:\\\\Actuarial\\\\Projects\\\\Delegated Underwriting\\\\Source Data\\\\Output\\\\'\n",
    "\n",
    "infl_prop_14 = 'P14USD003 ICC Claims Bord 2018.03 March PROPERTY.xls'\n",
    "infl_liab_14 = 'P14USD003 ICC Claims Bord 2018.03 March LIABILITY.xls'\n",
    "infl_prop_15 = 'P15USD003 ICC Claims Bord 2018.03 March PROPERTY.xls'\n",
    "infl_liab_15 = 'P15USD003 ICC Claims Bord 2018.03 March LIABILITY.xls'\n",
    "infl_prop_15_lsic = 'P15USD003 ICC Claims Bord 2018.02 February PROPERTY LSIC.xls'\n",
    "infl_liab_15_lsic = 'P15USD003 ICC Claims Bord 2018.02 February LIABILITY LSIC.xls'\n",
    "infl_prop_16 = 'P16USD003 ICC Claims Bord 2018.02 February PROPERTY.xls'\n",
    "infl_liab_16 = 'P16USD003 ICC Claims Bord 2018.02 February LIABILITY.xls'\n",
    "infl_prop_17 = 'P17USD003 ICC Claims Bord 2018.02 February PROPERTY.xls'\n",
    "infl_liab_17 = 'P17USD003 ICC Claims Bord 2018.02 February LIABILITY.xls'\n",
    "\n",
    "#input_file_list = [infl_prop_14,infl_liab_14,infl_prop_15,infl_liab_15,infl_prop_15_lsic,infl_liab_15_lsic,infl_prop_16,infl_liab_16,infl_prop_17,infl_liab_17]\n",
    "\n",
    "#Binder_Inception_Month = 6\n",
    "\n",
    "outfl_prop_14 = 'ICC Claims Prop 2014'\n",
    "outfl_liab_14 = 'ICC Claims Liab 2014'\n",
    "outfl_prop_15 = 'ICC Claims Prop 2015'\n",
    "outfl_liab_15 = 'ICC Claims Liab 2015'\n",
    "outfl_prop_15_lsic = 'ICC Claims Prop 2015 LSIC'\n",
    "outfl_liab_15_lsic = 'ICC Claims Liab 2015 LSIC'\n",
    "outfl_prop_16 = 'ICC Claims Prop 2016'\n",
    "outfl_liab_16 = 'ICC Claims Liab 2016'\n",
    "outfl_prop_17 = 'ICC Claims Prop 2017'\n",
    "outfl_liab_17 = 'ICC Claims Liab 2017'\n",
    "\n",
    "extension = '.xlsx'\n",
    "\n",
    "file_tup_1 = (infl_prop_14,outfl_prop_14)\n",
    "file_tup_2 = (infl_prop_15,outfl_prop_15)\n",
    "file_tup_3 = (infl_prop_16,outfl_prop_16)\n",
    "file_tup_4 = (infl_prop_17,outfl_prop_17)\n",
    "\n",
    "file_tup_5 = (infl_liab_14,outfl_liab_14)\n",
    "file_tup_6 = (infl_liab_15,outfl_liab_15)\n",
    "file_tup_7 = (infl_liab_16,outfl_liab_16)\n",
    "file_tup_8 = (infl_liab_17,outfl_liab_17)\n",
    "\n",
    "file_tup_9 = (infl_prop_15_lsic,outfl_prop_15_lsic)\n",
    "file_tup_10 = (infl_liab_15_lsic,outfl_liab_15_lsic)\n",
    "\n",
    "file_tup_list = [file_tup_1,file_tup_2,file_tup_3,file_tup_4,file_tup_5,file_tup_6,file_tup_7,file_tup_8,file_tup_9,file_tup_10]"
   ]
  },
  {
   "cell_type": "code",
   "execution_count": 3,
   "metadata": {
    "collapsed": false
   },
   "outputs": [],
   "source": [
    "#Input parameters\n",
    "#Set dates and filepaths\n",
    "Current_Year = 2018\n",
    "Current_Month = 3\n",
    "\n",
    "#From 1 to 10\n",
    "tup_index = 5\n",
    "\n",
    "file_tup = file_tup_list[tup_index-1]"
   ]
  },
  {
   "cell_type": "code",
   "execution_count": 4,
   "metadata": {
    "collapsed": false
   },
   "outputs": [
    {
     "name": "stdout",
     "output_type": "stream",
     "text": [
      "P14USD003 ICC Claims Bord 2018.03 March LIABILITY.xls\n",
      "ICC Claims Liab 2014.xlsx\n"
     ]
    }
   ],
   "source": [
    "input_file = file_tup[0]\n",
    "output_file = file_tup[1] + extension\n",
    "\n",
    "print(input_file)\n",
    "print(output_file)"
   ]
  },
  {
   "cell_type": "code",
   "execution_count": 5,
   "metadata": {
    "collapsed": false
   },
   "outputs": [],
   "source": [
    "def monthToNum(shortMonth):\n",
    "    #Convert month to number\n",
    "    return{\n",
    "            'Jan' : 1,\n",
    "            'Feb' : 2,\n",
    "            'Mar' : 3,\n",
    "            'Apr' : 4,\n",
    "            'May' : 5,\n",
    "            'Jun' : 6,\n",
    "            'Jul' : 7,\n",
    "            'Aug' : 8,\n",
    "            'Sep' : 9, \n",
    "            'Oct' : 10,\n",
    "            'Nov' : 11,\n",
    "            'Dec' : 12\n",
    "    }[shortMonth]"
   ]
  },
  {
   "cell_type": "code",
   "execution_count": 6,
   "metadata": {
    "collapsed": false
   },
   "outputs": [
    {
     "name": "stdout",
     "output_type": "stream",
     "text": [
      "['Feb-16', 'Mar-16 v2', 'Apr-16', 'May-16', 'Jun-16', 'Jul-16', 'Aug-16', 'Oct-16', 'Nov-16', 'Dec-16', 'Jan-17', 'Feb-17', 'Mar-17', 'Apr-17', 'May-17', 'Jun-17', 'Jul-17', 'Aug-17', 'Sep-17', 'Sep-17 v2', 'Oct-17', 'Nov-17', 'Dec-17', 'Jan-18', 'Feb-18', 'Mar-18']\n"
     ]
    }
   ],
   "source": [
    "#Get sheet names\n",
    "xls_prop = pd.ExcelFile(input_path + input_file, on_demand = True)\n",
    "sheet_list = xls_prop.sheet_names\n",
    "\n",
    "\n",
    "try:\n",
    "    sheet_list.remove('Summary')\n",
    "except ValueError:\n",
    "    pass\n",
    "\n",
    "try:\n",
    "    sheet_list.remove('Mar-16')\n",
    "except ValueError:\n",
    "    pass\n",
    "\n",
    "try:\n",
    "    sheet_list.remove('Sep-16')\n",
    "except ValueError:\n",
    "    pass\n",
    "\n",
    "\n",
    "print(sheet_list)"
   ]
  },
  {
   "cell_type": "code",
   "execution_count": 8,
   "metadata": {
    "collapsed": false
   },
   "outputs": [
    {
     "name": "stdout",
     "output_type": "stream",
     "text": [
      "Feb-16\n",
      "Mar-16 v2\n",
      "Apr-16\n",
      "May-16\n",
      "Jun-16\n",
      "Jul-16\n",
      "Aug-16\n",
      "Oct-16\n",
      "Nov-16\n",
      "Dec-16\n",
      "Jan-17\n",
      "Feb-17\n",
      "Mar-17\n",
      "Apr-17\n",
      "May-17\n",
      "Jun-17\n",
      "Jul-17\n",
      "Aug-17\n",
      "Sep-17\n",
      "Sep-17 v2\n",
      "Oct-17\n",
      "Nov-17\n",
      "Dec-17\n",
      "Jan-18\n",
      "Feb-18\n",
      "Mar-18\n"
     ]
    }
   ],
   "source": [
    "#Check sheet names for each month, compared to March 16\n",
    "#Get common column names\n",
    "\n",
    "#ICC_2014 =  pd.ExcelFile(Filepath_ICC_2014)\n",
    "\n",
    "\n",
    "\n",
    "df_jan_18 = pd.read_excel(input_path + input_file, sheetname = 'Jan-18', skiprows=[0])\n",
    "jan_18_columns = df_jan_18.columns.values\n",
    "combined_list = jan_18_columns\n",
    "#print(combined_list)\n",
    "#sheet = pd.read_excel(input_path + input_file, sheetname = sheet_name, skiprows=[0])\n",
    "\n",
    "for sheet_name in sheet_list:\n",
    "    print(sheet_name)\n",
    "    sheet = pd.read_excel(input_path + input_file, sheetname = sheet_name, skiprows=[0])\n",
    "    sheet.head()\n",
    "    sheet_columns = sheet.columns.values\n",
    "    #print (str(sheet_name) + ' ' + str(sheet_columns == mar16_columns))\n",
    "    #Only Feb-16 matches\n",
    "    combined_list = set(combined_list).intersection(sheet_columns)\n",
    "#print(combined_list)"
   ]
  },
  {
   "cell_type": "code",
   "execution_count": 19,
   "metadata": {
    "collapsed": false
   },
   "outputs": [
    {
     "name": "stdout",
     "output_type": "stream",
     "text": [
      "['Address', 'Agreement No', 'Catastrophe Name', 'Cause of Loss Code', 'Certificate Reference', 'Change this month Fees', 'Change this month Indemnity', 'Claim Reference', 'Claim Status', 'Claimant Name', 'Class of Business', 'Contract Expiry', 'Contract Inception', 'Country', 'Country of Treatment', 'Country.1', 'Country.2', 'Coverholder Name', 'Coverholder PIN', 'Date Claim Made', 'Date Closed', 'Date First Advised Notification Date', 'Date of Loss From ', 'Date of Loss To ', 'Deductible Amount', 'Deductible Basis', 'Denial', 'Firm Company Name', 'Full Name or Company Name', 'Location ID', 'Loss County', 'Loss Description', 'Medicare Conditional Payments', 'Medicare Eligibility Check Performance', 'Medicare MSP Compliance Services', 'Medicare Outcome of Eligibility Status Check', 'Medicare United States Bodily Injury', 'Name or Reg No of Aircraft Vehicle Vessel etc', 'Notes', 'Original Currency', 'Paid this month Adjusters Fees', 'Paid this month Attorney Coverage Fees', 'Paid this month Defence Fees', 'Paid this month Expenses', 'Paid this month Fees', 'Paid this month Indemnity', 'Paid this month TPA Fees', 'Patient Name', 'PCS Code', 'Period of Cover Narrative', 'Plan', 'Policy or Group Ref', 'Postcode Zip Code or similar', 'Previous Paid Adjuster Fees', 'Previously Paid Attorney Coverage Fees', 'Previously Paid Defence Fees', 'Previously Paid Expenses', 'Previously Paid Fees', 'Previously Paid Indemnity', 'Previously Paid TPA Fees', 'Rate of Exchange', 'Refer to Underwriter', 'Reference No etc', 'Report Period End Date ', 'Reporting Period Start Date', 'Reserve Adjusters Fees', 'Reserve Attorney Coverage Fees', 'Reserve Defence Fees', 'Reserve Expenses', 'Reserve Fees', 'Reserve Indemnity', 'Reserve TPA Fees', 'Risk Expiry Date', 'Risk Inception Date', 'Role', 'Row No', 'Section No', 'Settlement Currency', 'State of Filing', 'State Province Territory Canton etc', 'State Province Territory Canton etc.1', 'State Province Territory Canton etc.2', 'State Province Territory Canton etc.3', 'Sums Insured Amount', 'Total Incurred', 'Total Incurred Fees', 'Total Incurred Indemnity', 'TPA Name', 'Treatment Type', 'Type of Insurance Direct or Type of RI ', 'Unique Market Reference UMR ']\n"
     ]
    }
   ],
   "source": [
    "print(combined_list)"
   ]
  },
  {
   "cell_type": "code",
   "execution_count": 18,
   "metadata": {
    "collapsed": false
   },
   "outputs": [
    {
     "ename": "ValueError",
     "evalue": "'ReportMonth' is not in list",
     "output_type": "error",
     "traceback": [
      "\u001b[0;31m---------------------------------------------------------------------------\u001b[0m",
      "\u001b[0;31mValueError\u001b[0m                                Traceback (most recent call last)",
      "\u001b[0;32m<ipython-input-18-9098d6c65de1>\u001b[0m in \u001b[0;36m<module>\u001b[0;34m()\u001b[0m\n\u001b[1;32m      7\u001b[0m \u001b[1;33m\u001b[0m\u001b[0m\n\u001b[1;32m      8\u001b[0m \u001b[1;31m#combined_list.insert(0, combined_list.pop(combined_list.index('BinderName')))\u001b[0m\u001b[1;33m\u001b[0m\u001b[1;33m\u001b[0m\u001b[0m\n\u001b[0;32m----> 9\u001b[0;31m \u001b[0mcombined_list\u001b[0m\u001b[1;33m.\u001b[0m\u001b[0minsert\u001b[0m\u001b[1;33m(\u001b[0m\u001b[1;36m0\u001b[0m\u001b[1;33m,\u001b[0m \u001b[0mcombined_list\u001b[0m\u001b[1;33m.\u001b[0m\u001b[0mpop\u001b[0m\u001b[1;33m(\u001b[0m\u001b[0mcombined_list\u001b[0m\u001b[1;33m.\u001b[0m\u001b[0mindex\u001b[0m\u001b[1;33m(\u001b[0m\u001b[1;34m'ReportMonth'\u001b[0m\u001b[1;33m)\u001b[0m\u001b[1;33m)\u001b[0m\u001b[1;33m)\u001b[0m\u001b[1;33m\u001b[0m\u001b[0m\n\u001b[0m",
      "\u001b[0;31mValueError\u001b[0m: 'ReportMonth' is not in list"
     ]
    }
   ],
   "source": [
    "combined_list = list(combined_list)\n",
    "\n",
    "combined_list = sorted(combined_list, key=str.lower)\n",
    "#print(combined_list) \n",
    "\n",
    "#Bring specific elements to front\n",
    "\n",
    "#combined_list.insert(0, combined_list.pop(combined_list.index('BinderName')))\n",
    "#combined_list.insert(0, combined_list.pop(combined_list.index('ReportMonth')))"
   ]
  },
  {
   "cell_type": "code",
   "execution_count": 10,
   "metadata": {
    "collapsed": false
   },
   "outputs": [
    {
     "name": "stdout",
     "output_type": "stream",
     "text": [
      "Feb-16\n",
      "Mar-16 v2\n",
      "Apr-16\n",
      "May-16\n",
      "Jun-16\n",
      "Jul-16\n",
      "Aug-16\n",
      "Oct-16\n",
      "Nov-16\n",
      "Dec-16\n",
      "Jan-17\n",
      "Feb-17\n",
      "Mar-17\n",
      "Apr-17\n",
      "May-17\n",
      "Jun-17\n",
      "Jul-17\n",
      "Aug-17\n",
      "Sep-17\n",
      "Sep-17 v2\n",
      "Oct-17\n",
      "Nov-17\n",
      "Dec-17\n",
      "Jan-18\n",
      "Feb-18\n",
      "Mar-18\n"
     ]
    }
   ],
   "source": [
    "#Join based on combined list\n",
    "#Reorder each sheet to combined list derived above, then append\n",
    "\n",
    "combined_pd = pd.DataFrame(columns = combined_list)\n",
    "#print(combined_pd)\n",
    "combined_pd.head()\n",
    "\n",
    "for sheet_name in sheet_list:\n",
    "    sheet_pd = pd.read_excel(input_path + input_file, sheetname = sheet_name, skiprows=[0])\n",
    "    print(sheet_name)\n",
    "    sheet_pd = sheet_pd[combined_list] \n",
    "    sheet_pd['ReportPeriod'] = sheet_name[:6] \n",
    "    sheet_pd['ReportYear'] = int('20' + sheet_name[4:6])\n",
    "    sheet_pd['ReportMonth'] = int(monthToNum(sheet_name[:3]))\n",
    "    sheet_pd['BinderName'] = output_file\n",
    "    \n",
    "    combined_pd = combined_pd.append(sheet_pd)\n",
    "   \n",
    "    #print(combined_pd.shape[0])\n",
    "    \n",
    "#combined_pd.head()"
   ]
  },
  {
   "cell_type": "code",
   "execution_count": 11,
   "metadata": {
    "collapsed": false
   },
   "outputs": [],
   "source": [
    "pd.set_option('display.max_columns', None)\n",
    "#combined_pd.head()"
   ]
  },
  {
   "cell_type": "code",
   "execution_count": 12,
   "metadata": {
    "collapsed": false
   },
   "outputs": [],
   "source": [
    "#Remove the total claims row and any blanks\n",
    "\n",
    "combined_pd.drop(combined_pd[combined_pd['Coverholder Name'].astype(str).str[:5] == 'Total'].index, inplace=True)\n",
    "\n",
    "combined_pd['Coverholder Name'].replace('', np.nan, inplace=True)\n",
    "combined_pd.dropna(subset=['Coverholder Name'], inplace=True)"
   ]
  },
  {
   "cell_type": "code",
   "execution_count": 13,
   "metadata": {
    "collapsed": false
   },
   "outputs": [],
   "source": [
    "#Add extra fields, YOA, Devt Month\n",
    "combined_pd['YearOfAccount'] = combined_pd['Contract Inception'].astype(str).str[:4]\n",
    "combined_pd['InceptionMonth'] = combined_pd['Contract Inception'].astype(str).str[5:7]\n",
    "\n",
    "combined_pd['YearOfAccount'] = combined_pd['YearOfAccount'].astype(float)\n",
    "combined_pd['InceptionMonth'] = combined_pd['InceptionMonth'].astype(float)\n",
    "\n",
    "#combined_pd['DevelopmentMonth'] = (combined_pd['ReportYear'].astype(int) - combined_pd['YearOfAccount'].astype(int))*12 +  combined_pd['ReportMonth'].astype(int) + Binder_Inception_Month\n",
    "combined_pd['DevelopmentMonth'] = (combined_pd['ReportYear'] - combined_pd['YearOfAccount'])*12 + combined_pd['ReportMonth'] - combined_pd['InceptionMonth']"
   ]
  },
  {
   "cell_type": "code",
   "execution_count": 14,
   "metadata": {
    "collapsed": false
   },
   "outputs": [],
   "source": [
    "#Combined Paid and Incurred Amounts and add Open/Closed Flag\n",
    "combined_pd['TotalPaid'] = combined_pd['Paid this month Fees'] + combined_pd['Paid this month Indemnity']\n",
    "combined_pd['TotalReserve'] = combined_pd['Reserve Fees'] + combined_pd['Reserve Indemnity']\n",
    "\n",
    "#combined_pd['ClaimStatus'] = np.where(combined_pd['TotalReserve']==0, 'Closed', 'Open')\n",
    "\n",
    "#if combined_pd['TotalReserve'] = 0:\n",
    "#    combined_pd['ClaimStatus'] = 'Closed'\n",
    "#else:\n",
    "#    combined_pd['ClaimStatus'] = 'Open'"
   ]
  },
  {
   "cell_type": "code",
   "execution_count": 15,
   "metadata": {
    "collapsed": false
   },
   "outputs": [
    {
     "ename": "NameError",
     "evalue": "name 'Print' is not defined",
     "output_type": "error",
     "traceback": [
      "\u001b[0;31m---------------------------------------------------------------------------\u001b[0m",
      "\u001b[0;31mNameError\u001b[0m                                 Traceback (most recent call last)",
      "\u001b[0;32m<ipython-input-15-f7c6783bc8a3>\u001b[0m in \u001b[0;36m<module>\u001b[0;34m()\u001b[0m\n\u001b[1;32m      2\u001b[0m \u001b[0mcombined_pd\u001b[0m\u001b[1;33m.\u001b[0m\u001b[0mto_excel\u001b[0m\u001b[1;33m(\u001b[0m\u001b[0moutput_path\u001b[0m \u001b[1;33m+\u001b[0m \u001b[0moutput_file\u001b[0m\u001b[1;33m,\u001b[0m \u001b[0msheet_name\u001b[0m\u001b[1;33m=\u001b[0m\u001b[1;34m'Sheet1'\u001b[0m\u001b[1;33m,\u001b[0m \u001b[0mindex\u001b[0m\u001b[1;33m=\u001b[0m\u001b[1;32mFalse\u001b[0m\u001b[1;33m,\u001b[0m \u001b[0mengine\u001b[0m\u001b[1;33m=\u001b[0m\u001b[1;34m'xlsxwriter'\u001b[0m\u001b[1;33m)\u001b[0m\u001b[1;33m\u001b[0m\u001b[0m\n\u001b[1;32m      3\u001b[0m \u001b[1;33m\u001b[0m\u001b[0m\n\u001b[0;32m----> 4\u001b[0;31m \u001b[0mPrint\u001b[0m\u001b[1;33m(\u001b[0m\u001b[1;34m'done'\u001b[0m\u001b[1;33m)\u001b[0m\u001b[1;33m\u001b[0m\u001b[0m\n\u001b[0m",
      "\u001b[0;31mNameError\u001b[0m: name 'Print' is not defined"
     ]
    }
   ],
   "source": [
    "#Output to Excel\n",
    "combined_pd.to_excel(output_path + output_file, sheet_name='Sheet1', index=False, engine='xlsxwriter')\n",
    "\n",
    "print('done')"
   ]
  },
  {
   "cell_type": "code",
   "execution_count": null,
   "metadata": {
    "collapsed": true
   },
   "outputs": [],
   "source": []
  }
 ],
 "metadata": {
  "anaconda-cloud": {},
  "kernelspec": {
   "display_name": "Python [default]",
   "language": "python",
   "name": "python3"
  },
  "language_info": {
   "codemirror_mode": {
    "name": "ipython",
    "version": 3
   },
   "file_extension": ".py",
   "mimetype": "text/x-python",
   "name": "python",
   "nbconvert_exporter": "python",
   "pygments_lexer": "ipython3",
   "version": "3.5.4"
  }
 },
 "nbformat": 4,
 "nbformat_minor": 1
}
